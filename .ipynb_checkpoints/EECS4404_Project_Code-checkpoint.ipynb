{
 "cells": [
  {
   "cell_type": "markdown",
   "id": "85fd9a99",
   "metadata": {},
   "source": [
    "***GROUP J***"
   ]
  },
  {
   "cell_type": "markdown",
   "id": "29b7092b",
   "metadata": {},
   "source": [
    "for best results, run all cells at the start"
   ]
  },
  {
   "cell_type": "code",
   "execution_count": 1,
   "id": "a07bfcf9",
   "metadata": {},
   "outputs": [],
   "source": [
    "# These dependencies are necessary for loading the data\n",
    "import json\n",
    "import os\n",
    "import random\n",
    "import numpy as np"
   ]
  },
  {
   "cell_type": "markdown",
   "id": "c738952c",
   "metadata": {},
   "source": [
    "***TRAINING OUR MODEL***"
   ]
  },
  {
   "cell_type": "markdown",
   "id": "078b18d1",
   "metadata": {},
   "source": [
    "We will be doing a supervised classification model with random forest. Each tree will produce a prediction if a song satisfies the inputs. The inputs will be randomly selected. "
   ]
  },
  {
   "cell_type": "markdown",
   "id": "bff5312b",
   "metadata": {},
   "source": [
    "Each decision in the decision tree will be given a weight which will start with 1 and will be adjusted according to feedback from our perceptron model. From here we will calculate the average of each decision tree output and compare it to a threshold of accpetance. If the average if greater than the threshold, the song is labeled as in the new generated playlist. If the average is below, the song is labeled as not part of the new playlist. "
   ]
  },
  {
   "cell_type": "code",
   "execution_count": 2,
   "id": "0d1bda93",
   "metadata": {},
   "outputs": [],
   "source": [
    "#SETUP\n",
    "#our training data\n",
    "music_train = json.load(open('Song_Dataset.json'))\n",
    "\n",
    "\n",
    "#the score for each song in the decision trees\n",
    "score = 0\n",
    "\n",
    "\n",
    "#our weights the perceptron model performed after the random forest produces a score\n",
    "w = 1;\n",
    "b = 0;\n",
    "x = 2\n",
    "\n",
    "\n",
    "#list of music genres\n",
    "categories = json.load(open('catergories.json'))\n",
    "c_len = len(categories[\"categories\"])\n",
    "\n",
    "\n",
    "#list of languages\n",
    "languages = json.load(open('languages.json'))\n",
    "l_len = len(languages[\"languages\"])\n",
    "\n",
    "\n"
   ]
  },
  {
   "cell_type": "markdown",
   "id": "11ca1462",
   "metadata": {},
   "source": [
    "The function decision_tree takes in 8 inputs:"
   ]
  },
  {
   "cell_type": "markdown",
   "id": "59e324b6",
   "metadata": {},
   "source": [
    "our taining set, genre1, genre2, language, tempo, weight for the 1st decision tree, weight for the 2nd decision tree, weight for the 3rd decision tree"
   ]
  },
  {
   "cell_type": "markdown",
   "id": "b250cde2",
   "metadata": {},
   "source": [
    "The function then outputs an array of predicted songs based on if they are within the threshold. The threshold is determined via the weights of each decision tree."
   ]
  },
  {
   "cell_type": "code",
   "execution_count": 3,
   "id": "6fd158f9",
   "metadata": {},
   "outputs": [],
   "source": [
    "#DECISION TREES\n",
    "def decision_tree(music, genre1, genre2, language, tempo, w, b):\n",
    "    p1 = np.empty((len(music[\"songs\"]), 2))\n",
    "    p2 = np.empty((len(music[\"songs\"]), 2))\n",
    "    p3 = np.empty((len(music[\"songs\"]), 2))\n",
    "\n",
    "    \n",
    "    \n",
    "    #decision tree 1: starting with genres\n",
    "    for i in range (0 , len(music[\"songs\"])):\n",
    "        score = 0   #reset the score for each song\n",
    "        if ((music[\"songs\"][i][\"genre1\"] == genre1) | (music[\"songs\"][i][\"genre1\"] == genre2) | (music[\"songs\"][i][\"genre2\"] == genre2) | (music[\"songs\"][i][\"genre2\"] == genre1)):\n",
    "            score += 1\n",
    "            if (music[\"songs\"][i][\"language\"] == language):\n",
    "                    score += 1\n",
    "                    if ((int(music[\"songs\"][i][\"tempo\"]) >= (tempo - 25)) & (int(music[\"songs\"][i][\"tempo\"]) <= (tempo + 25))):\n",
    "                        score += 1\n",
    "                        p1[i][0] = i\n",
    "                        p1[i][1] = score\n",
    "                    else:\n",
    "                        p1[i][0] = i\n",
    "                        p1[i][1] = score\n",
    "            else:\n",
    "                p1[i][0] = i\n",
    "                p1[i][1] = score\n",
    "        else:\n",
    "            p1[i][0] = i\n",
    "            p1[i][1] = score\n",
    "\n",
    "\n",
    "\n",
    "    #decision tree 2: starting with language\n",
    "    for i in range (0 , len(music[\"songs\"])):\n",
    "        score = 0   #reset the score for each song\n",
    "        if (music[\"songs\"][i][\"language\"] == language):\n",
    "            score += 1\n",
    "            if ((music[\"songs\"][i][\"genre1\"] == genre1) | (music[\"songs\"][i][\"genre2\"] == genre2) | (music[\"songs\"][i][\"genre1\"] == genre2) | (music[\"songs\"][i][\"genre2\"] == genre1)):\n",
    "                score += 1\n",
    "                if ((int(music[\"songs\"][i][\"tempo\"]) >= (tempo - 25)) & (int(music[\"songs\"][i][\"tempo\"]) <= (tempo + 25))):\n",
    "                    score += 1\n",
    "                    p2[i][0] = i\n",
    "                    p2[i][1] = score\n",
    "                else:\n",
    "                    p2[i][0] = i\n",
    "                    p2[i][1] = score\n",
    "            else:\n",
    "                p2[i][0] = i\n",
    "                p2[i][1] = score\n",
    "        else:\n",
    "            p2[i][0] = i\n",
    "            p2[i][1] = score\n",
    "\n",
    "\n",
    "\n",
    "    #decision tree 3: starting with tempo\n",
    "    for i in range (0 , len(music[\"songs\"])):\n",
    "        score = 0   #reset the score for each song\n",
    "        if ((int(music[\"songs\"][i][\"tempo\"]) >= (tempo - 25)) & (int(music[\"songs\"][i][\"tempo\"]) <= (tempo + 25))):\n",
    "            score += 1\n",
    "            if (music[\"songs\"][i][\"language\"] == language):\n",
    "                score += 1\n",
    "                if ((music[\"songs\"][i][\"genre1\"] == genre1) | (music[\"songs\"][i][\"genre2\"] == genre2) | (music[\"songs\"][i][\"genre1\"] == genre2) | (music[\"songs\"][i][\"genre2\"] == genre1)):\n",
    "                    score += 1\n",
    "                    p3[i][0] = i\n",
    "                    p3[i][1] = score\n",
    "                else:\n",
    "                    p3[i][0] = i\n",
    "                    p3[i][1] = score\n",
    "            else:\n",
    "                p2[i][0] = i\n",
    "                p3[i][1] = score\n",
    "        else:\n",
    "            p3[i][0] = i\n",
    "            p3[i][1] = score\n",
    "        \n",
    "        \n",
    "    #calculate the total score of each song based on the three trees\n",
    "    total_scores = np.zeros((len(music[\"songs\"]), 2))\n",
    "    \n",
    "    \n",
    "    for i in range (0 , len(music[\"songs\"])):\n",
    "        predict = (w * ((p1[i][1] + p2[i][1] + p3[i][1]) / 3)) + b\n",
    "        \n",
    "        total_scores[i][0] = i\n",
    "        total_scores[i][1] = predict\n",
    "        \n",
    "        \n",
    "    return total_scores\n",
    "        \n",
    "    "
   ]
  },
  {
   "cell_type": "markdown",
   "id": "c0ff8dc2",
   "metadata": {},
   "source": [
    "Call the decision_tree function over while loop to train the our model by updating the weights for each of the decision trees using the perceptron method"
   ]
  },
  {
   "cell_type": "code",
   "execution_count": 4,
   "id": "911dfb38",
   "metadata": {},
   "outputs": [],
   "source": [
    "def train (music_train, music_comp, genre1, genre2, language, tempo, w, b,x):\n",
    "    \n",
    "    a = 0.1\n",
    "    accuracy = 0\n",
    "    time = 0 #used to prevent infinite loop\n",
    "    music_scores = decision_tree(music_train, genre1, genre2, language, tempo, w, b)\n",
    "    \n",
    "    #if time reaches 100, exit the loop. 100 was chosen because any time greater than 100 resulted in the same accuracy\n",
    "    while (((accuracy / len(music_comp[\"songs\"])) < 0.8) & (time < 100)):\n",
    "        time += 1\n",
    "            \n",
    "        music_scores = decision_tree(music_train, genre1, genre2, language, tempo, w, b)\n",
    "        flag = 0;\n",
    "        accuracy = -1\n",
    "        \n",
    "        #calculate accuracy\n",
    "        for j in range (0 , len(music_comp[\"songs\"])):\n",
    "            for i in range(0 , len(music_scores)):\n",
    "                if((music_train[\"songs\"][i][\"name\"] == music_comp[\"songs\"][j][\"name\"]) & (music_scores[i][1] >= x)): #x = yes/no threshold\n",
    "                    #if the \n",
    "                    accuracy += 1\n",
    "                    flag = 1;\n",
    "                else:\n",
    "                    flag = 0\n",
    "                \n",
    "                #if flag = 0, then we need to update the weights of the decision tree. \n",
    "                if( flag == 0):\n",
    "                    y_hat = 0 #no\n",
    "                    y = 1 #yes\n",
    "\n",
    "                    #find the score for the song that is supposed to be in the playlist but isn't\n",
    "                    x = music_scores[i][1] #prediction/threshold\n",
    "\n",
    "                    w = w - a * (y_hat - y) * x\n",
    "                    b = b - a * (y_hat - y)           \n",
    "            \n",
    "    return music_scores,(accuracy / len(music_comp[\"songs\"])), w, b, x"
   ]
  },
  {
   "cell_type": "markdown",
   "id": "d85af171",
   "metadata": {},
   "source": [
    "Call the train function to train the model based on the first training case"
   ]
  },
  {
   "cell_type": "code",
   "execution_count": 5,
   "id": "d8c7d3a2",
   "metadata": {},
   "outputs": [],
   "source": [
    "music_comp1 = json.load(open('Train1.json')) \n",
    "genre1 = \"ALternative/Indie\"\n",
    "genre2 = \"Pop\"\n",
    "language = \"English\"\n",
    "tempo = 125\n",
    "\n",
    "music_scores1, accuracy1, w1, b1, x1 = train (music_train, music_comp1, genre1, genre2, language, tempo, w, b, x)"
   ]
  },
  {
   "cell_type": "code",
   "execution_count": 6,
   "id": "37834678",
   "metadata": {},
   "outputs": [
    {
     "data": {
      "text/plain": [
       "0.9295774647887324"
      ]
     },
     "execution_count": 6,
     "metadata": {},
     "output_type": "execute_result"
    }
   ],
   "source": [
    "accuracy1"
   ]
  },
  {
   "cell_type": "markdown",
   "id": "86364da4",
   "metadata": {},
   "source": [
    "Call the train function to train the model based on the second training case using the weights based on the previous training results"
   ]
  },
  {
   "cell_type": "code",
   "execution_count": 7,
   "id": "7899e130",
   "metadata": {},
   "outputs": [],
   "source": [
    "music_comp2 = json.load(open('Train2.json')) \n",
    "genre1 = \"ALternative Rock\"\n",
    "genre2 = \"K-Pop\"\n",
    "language = \"Korean\"\n",
    "tempo = 130"
   ]
  },
  {
   "cell_type": "code",
   "execution_count": 8,
   "id": "6eb7e80d",
   "metadata": {},
   "outputs": [],
   "source": [
    "music_scores2, accuracy2, w2, b2, x2 = train (music_train, music_comp2, genre1, genre2, language, tempo, w1, b1, x1)"
   ]
  },
  {
   "cell_type": "code",
   "execution_count": 9,
   "id": "9e34ffbe",
   "metadata": {},
   "outputs": [
    {
     "data": {
      "text/plain": [
       "0.5"
      ]
     },
     "execution_count": 9,
     "metadata": {},
     "output_type": "execute_result"
    }
   ],
   "source": [
    "accuracy2"
   ]
  },
  {
   "cell_type": "markdown",
   "id": "ef038735",
   "metadata": {},
   "source": [
    "Call the train function to train the model based on the second training case using the weights based on the previous training results"
   ]
  },
  {
   "cell_type": "code",
   "execution_count": 10,
   "id": "68b25d19",
   "metadata": {},
   "outputs": [],
   "source": [
    "music_comp3 = json.load(open('Train3.json')) \n",
    "genre1 = \"R&B/Soul\"\n",
    "genre2 = \"Rock\"\n",
    "language = \"English\"\n",
    "tempo = 100"
   ]
  },
  {
   "cell_type": "code",
   "execution_count": 11,
   "id": "f441d2f9",
   "metadata": {},
   "outputs": [],
   "source": [
    "music_scores3, accuracy3, w3, b3, x3 = train (music_train, music_comp3, genre1, genre2, language, tempo, w2, b2, x2)"
   ]
  },
  {
   "cell_type": "code",
   "execution_count": 12,
   "id": "3b3dc3eb",
   "metadata": {},
   "outputs": [
    {
     "data": {
      "text/plain": [
       "0.9230769230769231"
      ]
     },
     "execution_count": 12,
     "metadata": {},
     "output_type": "execute_result"
    }
   ],
   "source": [
    "accuracy3"
   ]
  },
  {
   "cell_type": "markdown",
   "id": "43de96d6",
   "metadata": {},
   "source": [
    "The final model is now finished (the weights of the perceptron which influence the random forest). The final \"x\" value determines the threshold score for which songs are part of the playlist and which songs are not. "
   ]
  },
  {
   "cell_type": "markdown",
   "id": "dff69f68",
   "metadata": {},
   "source": [
    "***Now to Test our model on new data.***"
   ]
  },
  {
   "cell_type": "markdown",
   "id": "5bf90c29",
   "metadata": {},
   "source": [
    "We use the most recent values for the decision tree weights for our final model."
   ]
  },
  {
   "cell_type": "code",
   "execution_count": 13,
   "id": "37e8bebf",
   "metadata": {},
   "outputs": [],
   "source": [
    "def test (playlist, comp, genre1, genre2, language, tempo, w, b, x):\n",
    "    #call the decision tree function using the weights determined by the training function to score the new data\n",
    "    music_scores = decision_tree (playlist, genre1, genre2, language, tempo, w, b)\n",
    "    \n",
    "    #hold the indicies of the generated playlist\n",
    "    generate = np.zeros((len(music_scores), 2))\n",
    "    \n",
    "    #local variables\n",
    "    j = 0;\n",
    "    accuracy = 0\n",
    "    flag = 0   #help determine accuracy\n",
    "    \n",
    "    for i in range (0, len(music_scores)):\n",
    "        if(music_scores[i][1] >= x):\n",
    "            generate[j][0] = i\n",
    "            generate[j][1] = music_scores[i][1]\n",
    "            j += 1\n",
    "        else:\n",
    "            generate = np.delete(generate, len(generate)-1, 0)\n",
    "\n",
    "        \n",
    "    for j in range (0 , len(comp[\"songs\"])):\n",
    "        for i in range(0 , len(generate)):\n",
    "            if((playlist[\"songs\"][i][\"name\"] == comp[\"songs\"][j][\"name\"]) & (generate[i][1] >= x)): #x = threshold\n",
    "                accuracy += 1\n",
    "                flag = 1\n",
    "        if(flag == 0):\n",
    "            accuracy -= 1\n",
    "        else:\n",
    "            flag = 0\n",
    "\n",
    "\n",
    "    return generate, (accuracy / (len(comp[\"songs\"])))"
   ]
  },
  {
   "cell_type": "markdown",
   "id": "0a75c131",
   "metadata": {},
   "source": [
    "First test case for an english playlist by calling the test function "
   ]
  },
  {
   "cell_type": "code",
   "execution_count": 14,
   "id": "47f8e24c",
   "metadata": {},
   "outputs": [],
   "source": [
    "#user inputs:\n",
    "user_genre_1 = 'R&B Soul'\n",
    "user_genre_2 = 'Hip-Hop/Rap'\n",
    "user_language = 'English'\n",
    "user_tempo = '115'\n",
    "user_playlist = json.load(open('Playlist.json'))#testing dataset\n",
    "comp = json.load(open('Playlist_Comp.json'))#used to calculate the accuracy\n",
    "\n",
    "\n",
    "#generate indicates the indicies of the playlist that satify the user's inputs \n",
    "generate, accuracy_test2 = test(user_playlist, comp, genre1, genre2, language, tempo, w3, b3, x3)"
   ]
  },
  {
   "cell_type": "code",
   "execution_count": 15,
   "id": "b987a30a",
   "metadata": {},
   "outputs": [
    {
     "data": {
      "text/plain": [
       "1.0"
      ]
     },
     "execution_count": 15,
     "metadata": {},
     "output_type": "execute_result"
    }
   ],
   "source": [
    "accuracy_test2"
   ]
  },
  {
   "cell_type": "markdown",
   "id": "ff303cd6",
   "metadata": {},
   "source": [
    "Second test case for a korean playlist"
   ]
  },
  {
   "cell_type": "code",
   "execution_count": 16,
   "id": "f946a533",
   "metadata": {},
   "outputs": [],
   "source": [
    "#user inputs:\n",
    "user_genre_1 = 'R&B Soul'\n",
    "user_genre_2 = 'K-pop'\n",
    "user_language = 'Korean'\n",
    "user_tempo = '95'\n",
    "user_playlist = json.load(open('Playlist.json'))#testing dataset\n",
    "comp = json.load(open('Playlist_Comp2.json'))#used to calculate the accuracy\n",
    "\n",
    "\n",
    "#generate indicates the indicies of the playlist that satify the user's inputs \n",
    "generate, accuracy_test2 = test(user_playlist, comp, genre1, genre2, language, tempo, w3, b3, x3)"
   ]
  },
  {
   "cell_type": "code",
   "execution_count": 17,
   "id": "2d071408",
   "metadata": {},
   "outputs": [
    {
     "data": {
      "text/plain": [
       "1.0"
      ]
     },
     "execution_count": 17,
     "metadata": {},
     "output_type": "execute_result"
    }
   ],
   "source": [
    "accuracy_test2"
   ]
  },
  {
   "cell_type": "markdown",
   "id": "a666257b",
   "metadata": {},
   "source": [
    "Third test case for a spanish playlist"
   ]
  },
  {
   "cell_type": "code",
   "execution_count": 18,
   "id": "4a2c2ecc",
   "metadata": {},
   "outputs": [],
   "source": [
    "#user inputs:\n",
    "user_genre_1 = 'R&B Soul'\n",
    "user_genre_2 = 'Pop'\n",
    "user_language = 'Spanish'\n",
    "user_tempo = '115'\n",
    "user_playlist = json.load(open('Playlist.json'))#testing dataset\n",
    "comp = json.load(open('Playlist_Comp3.json')) #used to calculate the accuracy\n",
    "\n",
    "\n",
    "#generate indicates the indicies of the playlist that satify the user's inputs \n",
    "generate, accuracy_test3 = test(user_playlist, comp, genre1, genre2, language, tempo, w3, b3, x3)"
   ]
  },
  {
   "cell_type": "code",
   "execution_count": 19,
   "id": "f72098fe",
   "metadata": {},
   "outputs": [
    {
     "data": {
      "text/plain": [
       "1.0"
      ]
     },
     "execution_count": 19,
     "metadata": {},
     "output_type": "execute_result"
    }
   ],
   "source": [
    "accuracy_test3"
   ]
  }
 ],
 "metadata": {
  "kernelspec": {
   "display_name": "Python 3 (ipykernel)",
   "language": "python",
   "name": "python3"
  },
  "language_info": {
   "codemirror_mode": {
    "name": "ipython",
    "version": 3
   },
   "file_extension": ".py",
   "mimetype": "text/x-python",
   "name": "python",
   "nbconvert_exporter": "python",
   "pygments_lexer": "ipython3",
   "version": "3.10.4"
  }
 },
 "nbformat": 4,
 "nbformat_minor": 5
}
