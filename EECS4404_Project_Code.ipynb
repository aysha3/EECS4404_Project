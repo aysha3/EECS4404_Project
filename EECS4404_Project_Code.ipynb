{
 "cells": [
  {
   "cell_type": "code",
   "execution_count": 56,
   "id": "2465cd0c",
   "metadata": {},
   "outputs": [],
   "source": [
    "# These dependencies are necessary for loading the data\n",
    "import json\n",
    "import os\n",
    "import random\n",
    "import numpy as np"
   ]
  },
  {
   "cell_type": "code",
   "execution_count": 57,
   "id": "3287faf1",
   "metadata": {},
   "outputs": [],
   "source": [
    "#This will be moved down later to empasize flow better\n",
    "#user inputs:\n",
    "user_genre_1 = 'Alternative/Indie'\n",
    "user_genre_2 = 'Pop rock'\n",
    "user_language = 'English'\n",
    "user_tempo = '120'\n",
    "user_playlist = json.load(open('Playlist.json'))"
   ]
  },
  {
   "cell_type": "markdown",
   "id": "c738952c",
   "metadata": {},
   "source": [
    "TRAINING OUR MODEL"
   ]
  },
  {
   "cell_type": "markdown",
   "id": "078b18d1",
   "metadata": {},
   "source": [
    "We will be doing a supervised classification model with random forest. Each tree will produce a prediction if a song satisfies the inputs. The inputs will be randomly selected. "
   ]
  },
  {
   "cell_type": "markdown",
   "id": "bff5312b",
   "metadata": {},
   "source": [
    "Each decision in the decision tree will be given a weight which will start with 1 and will be adjusted according to feedback. From here we will calculate the average of each decision tree output and compare it to a threshold of accpetance. If the average if greater than the threshold, the song is labeled as in the new generated playlist. If the average is bellow, the song is labeled as not part of the new playlist. "
   ]
  },
  {
   "cell_type": "code",
   "execution_count": 58,
   "id": "0d1bda93",
   "metadata": {},
   "outputs": [],
   "source": [
    "#SETUP\n",
    "#our training data\n",
    "music_train = json.load(open('Song_Dataset.json'))\n",
    "music_comp1 = json.load(open('Genre_Train1.json')) #genres alternative/indie and pop\n",
    "\n",
    "\n",
    "#the score for each song in the decision trees\n",
    "score = 0\n",
    "\n",
    "\n",
    "#our weights the perceptron model performed after the random forest produces a score\n",
    "w = 1;\n",
    "b = 0;\n",
    "\n",
    "\n",
    "#list of music genres\n",
    "categories = json.load(open('catergories.json'))\n",
    "c_len = len(categories[\"categories\"])\n",
    "\n",
    "\n",
    "#list of languages\n",
    "languages = json.load(open('languages.json'))\n",
    "l_len = len(languages[\"languages\"])\n",
    "\n",
    "\n",
    "#randomly choose the inputs\n",
    "genre1 = categories[\"categories\"][random.randrange(c_len)][\"c\"]\n",
    "genre2 = categories[\"categories\"][random.randrange(c_len)][\"c\"]\n",
    "language = languages[\"languages\"][random.randrange(l_len)][\"l\"]\n",
    "tempo = random.randint(50, 200)"
   ]
  },
  {
   "cell_type": "markdown",
   "id": "11ca1462",
   "metadata": {},
   "source": [
    "The function decision_tree takes in 8 inputs:"
   ]
  },
  {
   "cell_type": "markdown",
   "id": "59e324b6",
   "metadata": {},
   "source": [
    "our taining set, genre1, genre2, language, tempo, weight for the 1st decision tree, weight for the 2nd decision tree, weight for the 3rd decision tree"
   ]
  },
  {
   "cell_type": "markdown",
   "id": "b250cde2",
   "metadata": {},
   "source": [
    "The function then outputs an array of predicted songs based on if they are within the threshold. The threshold is determined via the weights of each decision tree."
   ]
  },
  {
   "cell_type": "code",
   "execution_count": 59,
   "id": "6fd158f9",
   "metadata": {},
   "outputs": [],
   "source": [
    "#DECISION TREES\n",
    "def decision_tree(music, genre1, genre2, language, tempo, w):\n",
    "    p1 = np.empty((len(music[\"songs\"]), 2))\n",
    "    p2 = np.empty((len(music[\"songs\"]), 2))\n",
    "    p3 = np.empty((len(music[\"songs\"]), 2))\n",
    "\n",
    "    \n",
    "    \n",
    "    #decision tree 1: starting with genres\n",
    "    for i in range (0 , len(music[\"songs\"])):\n",
    "        score = 0   #reset the score for each song\n",
    "        if ((music[\"songs\"][i][\"genre1\"] == genre1) | (music[\"songs\"][i][\"genre1\"] == genre2) | (music[\"songs\"][i][\"genre2\"] == genre2) | (music[\"songs\"][i][\"genre2\"] == genre1)):\n",
    "                score += 1\n",
    "                if (music[\"songs\"][i][\"language\"] == language):\n",
    "                    score += 1\n",
    "                    if ((int(music[\"songs\"][i][\"tempo\"]) > (tempo - 25)) & (int(music[\"songs\"][i][\"tempo\"]) < (tempo + 25))):\n",
    "                        score += 1\n",
    "                        p1[i][0] = i\n",
    "                        p1[i][1] = score\n",
    "                    else:\n",
    "                        p1[i][0] = i\n",
    "                        p1[i][1] = score\n",
    "                else:\n",
    "                    p1[i][0] = i\n",
    "                    p1[i][1] = score\n",
    "            else:\n",
    "                p1[i][0] = i\n",
    "                p1[i][1] = score\n",
    "\n",
    "\n",
    "\n",
    "    #decision tree 2: starting with language\n",
    "    for i in range (0 , len(music[\"songs\"])):\n",
    "        score = 0   #reset the score for each song\n",
    "        if (music[\"songs\"][i][\"language\"] == language):\n",
    "            score += 1\n",
    "            if ((music[\"songs\"][i][\"genre1\"] == genre1) | (music[\"songs\"][i][\"genre2\"] == genre2) | (music[\"songs\"][i][\"genre1\"] == genre2) | (music[\"songs\"][i][\"genre2\"] == genre1)):\n",
    "                score += 1\n",
    "                if ((int(music[\"songs\"][i][\"tempo\"]) > (tempo - 25)) & (int(music[\"songs\"][i][\"tempo\"]) < (tempo + 25))):\n",
    "                    score += 1\n",
    "                    p2[i][0] = i\n",
    "                    p2[i][1] = score\n",
    "                else:\n",
    "                    p2[i][0] = i\n",
    "                    p2[i][1] = score\n",
    "            else:\n",
    "                p2[i][0] = i\n",
    "                p2[i][1] = score\n",
    "        else:\n",
    "            p2[i][0] = i\n",
    "            p2[i][1] = score\n",
    "\n",
    "\n",
    "\n",
    "    #decision tree 3: starting with tempo\n",
    "    for i in range (0 , len(music[\"songs\"])):\n",
    "        score = 0   #reset the score for each song\n",
    "        if ((int(music[\"songs\"][i][\"tempo\"]) > (tempo - 25)) & (int(music[\"songs\"][i][\"tempo\"]) < (tempo + 25))):\n",
    "            score += 1\n",
    "            if (music[\"songs\"][i][\"language\"] == language):\n",
    "                score += 1\n",
    "                if ((music[\"songs\"][i][\"genre1\"] == genre1) | (music[\"songs\"][i][\"genre2\"] == genre2) | (music[\"songs\"][i][\"genre1\"] == genre2) | (music[\"songs\"][i][\"genre2\"] == genre1)):\n",
    "                    score += 1\n",
    "                    p3[i][0] = i\n",
    "                    p3[i][1] = score\n",
    "                else:\n",
    "                    p3[i][0] = i\n",
    "                    p3[i][1] = score\n",
    "            else:\n",
    "                p2[i][0] = i\n",
    "                p3[i][1] = score\n",
    "        else:\n",
    "            p3[i][0] = i\n",
    "            p3[i][1] = score\n",
    "        \n",
    "        \n",
    "    #calculate the total score of each song based on the three trees\n",
    "    total_scores = np.zeros((len(music[\"songs\"]), 2))\n",
    "    \n",
    "    j = 0   #counter to add results to y_hat \n",
    "    \n",
    "    for i in range (0 , len(music[\"songs\"])):\n",
    "        predict = w * ((p1[i][1] + p2[i][1] + p3[i][1]) / 3) + b\n",
    "        \n",
    "        #threshold is 2 for now\n",
    "        ############### need to find a way to calculate this ##############\n",
    "        if(predict > threshold):\n",
    "            total_scores[j][0] = i\n",
    "            total_scores[j][1] = predict\n",
    "            j += 1\n",
    "        else:\n",
    "            #this is to size the array appropiately to delete unnecessary zeros. \n",
    "            total_scores = np.delete(total_scores, len(total_scores)-1, 0)\n",
    "    return total_scores\n",
    "        \n",
    "    "
   ]
  },
  {
   "cell_type": "markdown",
   "id": "c0ff8dc2",
   "metadata": {},
   "source": [
    "Call the decision_tree function over while loop to train the our model by updating the weights for each of the decision trees."
   ]
  },
  {
   "cell_type": "code",
   "execution_count": 60,
   "id": "518f62d9",
   "metadata": {},
   "outputs": [],
   "source": [
    "music_scores = decision_tree(music_train, genre1, genre2, language, tempo, w1, w2, w3, b1, b2, b3)"
   ]
  },
  {
   "cell_type": "code",
   "execution_count": 1,
   "id": "911dfb38",
   "metadata": {},
   "outputs": [
    {
     "ename": "SyntaxError",
     "evalue": "invalid syntax (3252770278.py, line 17)",
     "output_type": "error",
     "traceback": [
      "\u001b[1;36m  Input \u001b[1;32mIn [1]\u001b[1;36m\u001b[0m\n\u001b[1;33m    w1 = w1 - a(y_hat - y)x\u001b[0m\n\u001b[1;37m                          ^\u001b[0m\n\u001b[1;31mSyntaxError\u001b[0m\u001b[1;31m:\u001b[0m invalid syntax\n"
     ]
    }
   ],
   "source": [
    "###fix\n",
    "def train (music_train, music_comp, genre1, genre2, language, tempo, w1, w2, w3, b1, b2, b3):\n",
    "    \n",
    "    a = 0.1\n",
    "    accuracy = np.zeros()\n",
    "    \n",
    "    while ((accuracy / len(music_comp[\"songs\"])) < 0.5 ):\n",
    "        music_scores = decision_tree(music_train, genre1, genre2, language, tempo, w1, w2, w3, b1, b2, b3)\n",
    "        \n",
    "        for i in music_scores[:][0]:\n",
    "            for j in range (0 , len(music_comp[\"songs\"])):\n",
    "                if((music_train[\"songs\"][i][\"name\"] == music_comp[\"songs\"][j][\"name\"]) | (music_train[\"songs\"][i][\"name\"] == music_comp[\"songs\"][j][\"name\"]) | (music_train[\"songs\"][i][\"name\"] == music_comp[\"songs\"][j][\"name\"]) | (music_train[\"songs\"][i][\"name\"] == music_comp[\"songs\"][j][\"name\"])):\n",
    "                    accuracy1 += 1\n",
    "                    print (i);\n",
    "                    \n",
    "                    \n",
    "        if((accuracy1 / len(music_comp[\"songs\"])) < 0.5):\n",
    "            w1 = w1 - a(y_hat - y)x\n",
    "            b1 = b1 - a(y_hat - y)\n"
   ]
  },
  {
   "cell_type": "code",
   "execution_count": 62,
   "id": "d8c7d3a2",
   "metadata": {},
   "outputs": [],
   "source": []
  },
  {
   "cell_type": "code",
   "execution_count": 63,
   "id": "3aebfbe4",
   "metadata": {},
   "outputs": [
    {
     "data": {
      "text/plain": [
       "'Korean Rock/Alternative'"
      ]
     },
     "execution_count": 63,
     "metadata": {},
     "output_type": "execute_result"
    }
   ],
   "source": []
  },
  {
   "cell_type": "code",
   "execution_count": 64,
   "id": "f76b4e4b",
   "metadata": {},
   "outputs": [
    {
     "ename": "SyntaxError",
     "evalue": "invalid syntax (585545993.py, line 1)",
     "output_type": "error",
     "traceback": [
      "\u001b[1;36m  Input \u001b[1;32mIn [64]\u001b[1;36m\u001b[0m\n\u001b[1;33m    w = w - a(y_hat - y)x\u001b[0m\n\u001b[1;37m                        ^\u001b[0m\n\u001b[1;31mSyntaxError\u001b[0m\u001b[1;31m:\u001b[0m invalid syntax\n"
     ]
    }
   ],
   "source": [
    "\n",
    "\n",
    "w = w - a(y_hat - y)x\n",
    "b = b - a(y_hat - y)"
   ]
  }
 ],
 "metadata": {
  "kernelspec": {
   "display_name": "Python 3 (ipykernel)",
   "language": "python",
   "name": "python3"
  },
  "language_info": {
   "codemirror_mode": {
    "name": "ipython",
    "version": 3
   },
   "file_extension": ".py",
   "mimetype": "text/x-python",
   "name": "python",
   "nbconvert_exporter": "python",
   "pygments_lexer": "ipython3",
   "version": "3.10.4"
  }
 },
 "nbformat": 4,
 "nbformat_minor": 5
}
